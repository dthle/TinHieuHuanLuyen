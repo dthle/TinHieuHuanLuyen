{
 "cells": [
  {
   "cell_type": "code",
   "execution_count": 1,
   "metadata": {},
   "outputs": [],
   "source": [
    "import librosa.display\n",
    "import librosa\n",
    "import numpy as np\n",
    "import matplotlib.pyplot as plt\n",
    "from matplotlib.collections import *\n",
    "from matplotlib.colors import *\n",
    "\n",
    "\n",
    "# speech-silence and voice-unvoiced\n",
    "def read_lab(lab_file_name: str):\n",
    "    data = []\n",
    "    with open(lab_file_name) as f:\n",
    "        for line in f.readlines():\n",
    "            data.append(line.split())\n",
    "    return data\n",
    "\n",
    "\n",
    "def get_closest(array, values):\n",
    "    array = np.array(array)\n",
    "    idx = np.searchsorted(array, values)\n",
    "    idx[array[idx] - values > np.diff(array).mean() * 0.5] -= 1\n",
    "    return array[idx]\n",
    "\n"
   ]
  },
  {
   "cell_type": "code",
   "execution_count": 2,
   "metadata": {},
   "outputs": [
    {
     "name": "stdout",
     "output_type": "stream",
     "text": [
      "[['0.00', '1.02', 'sil'], ['1.02', '1.88', 'v'], ['1.88', '1.95', 'uv'], ['1.95', '2.16', 'v'], ['2.16', '2.25', 'uv'], ['2.25', '2.60', 'v'], ['2.60', '2.75', 'uv'], ['2.75', '3.34', 'v'], ['3.34', '3.38', 'uv'], ['3.38', '3.45', 'v'], ['3.45', '3.62', 'uv'], ['3.62', '3.80', 'v'], ['3.80', '3.91', 'uv'], ['3.91', '4.00', 'v'], ['4.00', '4.04', 'uv'], ['4.04', '4.80', 'sil'], ['F0mean', '145'], ['F0std', '33.7']]\n"
     ]
    }
   ],
   "source": [
    "print(read_lab('./phone_F2.lab'))"
   ]
  },
  {
   "cell_type": "code",
   "execution_count": 4,
   "metadata": {},
   "outputs": [
    {
     "data": {
      "text/plain": [
       "<librosa.display.AdaptiveWaveplot at 0x7f8799cd5a30>"
      ]
     },
     "execution_count": 4,
     "metadata": {},
     "output_type": "execute_result"
    },
    {
     "data": {
      "image/png": "[encoded data removed]",
      "text/plain": [
       "<Figure size 432x288 with 1 Axes>"
      ]
     },
     "metadata": {
      "needs_background": "light"
     },
     "output_type": "display_data"
    }
   ],
   "source": [
    "phone_f2=librosa.load('./phone_F2.wav')\n",
    "librosa.display.waveshow(phone_f2[0], sr=phone_f2[1])"
   ]
  },
  {
   "cell_type": "code",
   "execution_count": 5,
   "metadata": {},
   "outputs": [],
   "source": [
    "t_i=0\n",
    "t_f=phone_f2[0].shape[0]/phone_f2[1]"
   ]
  },
  {
   "cell_type": "code",
   "execution_count": null,
   "metadata": {},
   "outputs": [],
   "source": [
    "t=np.linspace(t_i, t_f, phone_f2[0].shape[0])"
   ]
  }
 ],
 "metadata": {
  "kernelspec": {
   "display_name": "Python 3.8.13 ('torch')",
   "language": "python",
   "name": "python3"
  },
  "language_info": {
   "codemirror_mode": {
    "name": "ipython",
    "version": 3
   },
   "file_extension": ".py",
   "mimetype": "text/x-python",
   "name": "python",
   "nbconvert_exporter": "python",
   "pygments_lexer": "ipython3",
   "version": "3.8.13"
  },
  "orig_nbformat": 4,
  "vscode": {
   "interpreter": {
    "hash": "0b5a77bf552b230920654c44cb53c65466f608caadb484061e7fb072c7a70cdc"
   }
  }
 },
 "nbformat": 4,
 "nbformat_minor": 2
}
